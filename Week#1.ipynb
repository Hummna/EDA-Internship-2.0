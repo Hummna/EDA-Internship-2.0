{
 "cells": [
  {
   "cell_type": "code",
   "execution_count": 29,
   "id": "398e841d-f0c5-4195-a845-8a216970304d",
   "metadata": {},
   "outputs": [],
   "source": [
    "import numpy as np"
   ]
  },
  {
   "cell_type": "code",
   "execution_count": 30,
   "id": "433dd9b5-b146-418b-a8d4-c9553b9e8863",
   "metadata": {},
   "outputs": [
    {
     "name": "stdout",
     "output_type": "stream",
     "text": [
      "Array of even integers from 30 to 70:\n",
      "[30 32 34 36 38 40 42 44 46 48 50 52 54 56 58 60 62 64 66 68 70]\n"
     ]
    }
   ],
   "source": [
    "# Write a NumPy program to create an array of all even integers from 30 to 70.\n",
    "even_array = np.arange(30, 71, 2)\n",
    "print(\"Array of even integers from 30 to 70:\")\n",
    "print(even_array)"
   ]
  },
  {
   "cell_type": "code",
   "execution_count": 31,
   "id": "9bb76c59-a4cd-4362-9137-d29db61674ae",
   "metadata": {},
   "outputs": [
    {
     "name": "stdout",
     "output_type": "stream",
     "text": [
      "Array of 15 random numbers from standard normal distribution:\n",
      "[-0.00652881 -1.02866381  1.08732095  0.18719801 -0.40280573 -0.82499899\n",
      "  1.41430809  1.58632605 -0.34493778  0.75723406  0.25504669 -0.70076326\n",
      " -0.34467544  0.01323948 -0.34043317]\n"
     ]
    }
   ],
   "source": [
    "# Write a NumPy program to generate an array of 15 random numbers from a standard normal distribution.\n",
    "random_numbers = np.random.randn(15)\n",
    "print(\"Array of 15 random numbers from standard normal distribution:\")\n",
    "print(random_numbers)"
   ]
  },
  {
   "cell_type": "code",
   "execution_count": 32,
   "id": "732573d9-f38e-4b0a-9bd0-d0f8bba591a8",
   "metadata": {},
   "outputs": [
    {
     "name": "stdout",
     "output_type": "stream",
     "text": [
      "Cross-product of two matrices:\n",
      "[[-10  20 -10]\n",
      " [-10  20 -10]\n",
      " [-10  20 -10]]\n"
     ]
    }
   ],
   "source": [
    "# How to compute the cross-product of two matrices in NumPy?\n",
    "matrix1 = np.array([[1, 2, 3], [4, 5, 6], [7, 8, 9]])\n",
    "matrix2 = np.array([[9, 8, 7], [6, 5, 4], [3, 2, 1]])\n",
    "cross_product = np.cross(matrix1, matrix2)\n",
    "print(\"Cross-product of two matrices:\")\n",
    "print(cross_product)"
   ]
  },
  {
   "cell_type": "code",
   "execution_count": 37,
   "id": "331f6e7e-ef37-4f0d-a821-d28556765fd2",
   "metadata": {},
   "outputs": [
    {
     "name": "stdout",
     "output_type": "stream",
     "text": [
      "Determinant of the array: -2.0000000000000004\n"
     ]
    }
   ],
   "source": [
    "# How to compute the determinant of an array using NumPy?\n",
    "matrix = np.array([[1, 2], [3, 4]])\n",
    "determinant = np.linalg.det(matrix)\n",
    "print(\"Determinant of the array:\", determinant)"
   ]
  },
  {
   "cell_type": "code",
   "execution_count": 34,
   "id": "cac5f961-b5fc-47bd-8889-ce5be2ff1e2b",
   "metadata": {},
   "outputs": [
    {
     "name": "stdout",
     "output_type": "stream",
     "text": [
      "Three Arrays of 3x3 with random values:\n",
      "[[[0.75754274 0.58674589 0.71681823]\n",
      "  [0.56884344 0.0190489  0.05667461]\n",
      "  [0.0459114  0.83604148 0.94861582]]\n",
      "\n",
      " [[0.24942212 0.23885875 0.96759961]\n",
      "  [0.93925254 0.04915042 0.59099618]\n",
      "  [0.15379801 0.5905245  0.08043809]]\n",
      "\n",
      " [[0.19575092 0.132925   0.48621651]\n",
      "  [0.53904953 0.89733793 0.0178834 ]\n",
      "  [0.61728477 0.27361539 0.68033325]]]\n"
     ]
    }
   ],
   "source": [
    "# How to create a 3x3x3 array with random values using NumPy?\n",
    "random_3d_array = np.random.random((3, 3, 3))\n",
    "print(\"Three Arrays of 3x3 with random values:\")\n",
    "print(random_3d_array)"
   ]
  },
  {
   "cell_type": "code",
   "execution_count": 35,
   "id": "b6d9cdca-a43a-41d6-a06e-d49b951ac978",
   "metadata": {},
   "outputs": [
    {
     "name": "stdout",
     "output_type": "stream",
     "text": [
      "\n",
      "5x5 array with random values:\n",
      "[[0.41762427 0.86580644 0.36950823 0.98668249 0.67815496]\n",
      " [0.25201138 0.6778764  0.04714627 0.71065003 0.22276959]\n",
      " [0.33022839 0.74375239 0.46340417 0.7099854  0.2122998 ]\n",
      " [0.94473452 0.34940035 0.67404771 0.89802222 0.3559791 ]\n",
      " [0.83517986 0.65346949 0.66772445 0.34790656 0.71724264]]\n",
      "\n",
      "Minimum value: 0.04714627440417252\n",
      "Maximum value: 0.9866824918858135\n"
     ]
    }
   ],
   "source": [
    "# How to create a 5x5 array with random values and find the minimum and maximum values using NumPy?\n",
    "random_5x5_array = np.random.random((5, 5))\n",
    "min_value = np.min(random_5x5_array)\n",
    "max_value = np.max(random_5x5_array)\n",
    "print(\"5x5 array with random values:\")\n",
    "print(random_5x5_array)\n",
    "print(\"Minimum value:\", min_value)\n",
    "print(\"Maximum value:\", max_value)\n"
   ]
  },
  {
   "cell_type": "code",
   "execution_count": 36,
   "id": "cbf2ceda-12f5-4dcc-bdb0-f3db91e22035",
   "metadata": {},
   "outputs": [
    {
     "name": "stdout",
     "output_type": "stream",
     "text": [
      "\n",
      "Mean along the second axis: [2. 5.]\n",
      "Standard deviation along the second axis: [0.81649658 0.81649658]\n",
      "Variance along the second axis: [0.66666667 0.66666667]\n"
     ]
    }
   ],
   "source": [
    "# How to compute the mean, standard deviation, and variance of a given array along the second axis in NumPy?\n",
    "given_array = np.array([[1, 2, 3], [4, 5, 6]])\n",
    "mean = np.mean(given_array, axis=1)\n",
    "std_deviation = np.std(given_array, axis=1)\n",
    "variance = np.var(given_array, axis=1)\n",
    "print(\"Mean along the second axis:\", mean)\n",
    "print(\"Standard deviation along the second axis:\", std_deviation)\n",
    "print(\"Variance along the second axis:\", variance)"
   ]
  },
  {
   "cell_type": "code",
   "execution_count": null,
   "id": "4cfa279e-d335-484f-b19d-1c040d4987da",
   "metadata": {},
   "outputs": [],
   "source": []
  }
 ],
 "metadata": {
  "kernelspec": {
   "display_name": "Python 3 (ipykernel)",
   "language": "python",
   "name": "python3"
  },
  "language_info": {
   "codemirror_mode": {
    "name": "ipython",
    "version": 3
   },
   "file_extension": ".py",
   "mimetype": "text/x-python",
   "name": "python",
   "nbconvert_exporter": "python",
   "pygments_lexer": "ipython3",
   "version": "3.10.0"
  }
 },
 "nbformat": 4,
 "nbformat_minor": 5
}
