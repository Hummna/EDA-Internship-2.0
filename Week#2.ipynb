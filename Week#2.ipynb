{
 "cells": [
  {
   "cell_type": "code",
   "execution_count": 27,
   "id": "56a24d5e-cbcd-4eb7-8bef-db7e0cebea22",
   "metadata": {},
   "outputs": [],
   "source": [
    "import pandas as pd"
   ]
  },
  {
   "cell_type": "code",
   "execution_count": 28,
   "id": "5293e170-23c7-427f-9799-3500bd009525",
   "metadata": {},
   "outputs": [
    {
     "name": "stdout",
     "output_type": "stream",
     "text": [
      "a    1\n",
      "x    4\n",
      "c    9\n",
      "2    6\n",
      "e    7\n",
      "dtype: int64\n"
     ]
    }
   ],
   "source": [
    "''' \n",
    "1: Writer pandas series code to get following output without using dictionary:\n",
    "a 1\n",
    "x 4\n",
    "c 9\n",
    "2 6\n",
    "e 7 '''    \n",
    "\n",
    "series = pd.Series([1,4,9,6,7], index=['a', 'x', 'c', '2', 'e'])\n",
    "print(series)"
   ]
  },
  {
   "cell_type": "code",
   "execution_count": 29,
   "id": "4eff29ca-3236-44b8-b6ad-6fd263f77660",
   "metadata": {},
   "outputs": [
    {
     "name": "stdout",
     "output_type": "stream",
     "text": [
      "Bilal     42\n",
      "Ayesha    38\n",
      "Hadia     39\n",
      "dtype: int64\n"
     ]
    }
   ],
   "source": [
    "''' \n",
    "2: Writer pandas series code to get following output using dictionary:\n",
    "Bilal    42\n",
    "Ayesha   38\n",
    "Hadia    39\n",
    "'''\n",
    "\n",
    "data = {'Bilal': 42, 'Ayesha': 38, 'Hadia': 39}\n",
    "series = pd.Series(data)\n",
    "print(series)"
   ]
  },
  {
   "cell_type": "code",
   "execution_count": 30,
   "id": "9a1d034e-3c25-496c-bdbe-c4706dcc899c",
   "metadata": {},
   "outputs": [
    {
     "name": "stdout",
     "output_type": "stream",
     "text": [
      "        day  temperature  windspeed  event\n",
      "0  1/1/2017           32          6   Rain\n",
      "1  1/2/2017           35          7  Sunny\n",
      "2  1/3/2017           28          2   Snow\n",
      "3  1/4/2017           24          7   Snow\n",
      "4  1/5/2017           32          4   Rain\n",
      "5  1/6/2017           31          2  Sunny\n"
     ]
    }
   ],
   "source": [
    "# dataframe using pandas\n",
    "\n",
    "data = {\n",
    "    'day': ['1/1/2017', '1/2/2017', '1/3/2017', '1/4/2017', '1/5/2017', '1/6/2017'],\n",
    "    'temperature': [32, 35, 28, 24, 32, 31],\n",
    "    'windspeed': [6, 7, 2, 7, 4, 2],\n",
    "    'event': ['Rain', 'Sunny', 'Snow', 'Snow', 'Rain', 'Sunny']\n",
    "}\n",
    "\n",
    "df = pd.DataFrame(data)\n",
    "print(df)"
   ]
  },
  {
   "cell_type": "code",
   "execution_count": 31,
   "id": "0911d3dc-e80b-46bf-880a-1ebf57503489",
   "metadata": {},
   "outputs": [
    {
     "name": "stdout",
     "output_type": "stream",
     "text": [
      "        day  temperature  windspeed  event\n",
      "a  1/1/2017           32          6   Rain\n",
      "b  1/2/2017           35          7  Sunny\n",
      "c  1/3/2017           28          2   Snow\n",
      "d  1/4/2017           24          7   Snow\n",
      "e  1/5/2017           32          4   Rain\n",
      "f  1/6/2017           31          2  Sunny\n"
     ]
    }
   ],
   "source": [
    "data = {\n",
    "    'day': ['1/1/2017', '1/2/2017', '1/3/2017', '1/4/2017', '1/5/2017', '1/6/2017'],\n",
    "    'temperature': [32, 35, 28, 24, 32, 31],\n",
    "    'windspeed': [6, 7, 2, 7, 4, 2],\n",
    "    'event': ['Rain', 'Sunny', 'Snow', 'Snow', 'Rain', 'Sunny']\n",
    "}\n",
    "\n",
    "df = pd.DataFrame(data, index=['a', 'b', 'c', 'd', 'e', 'f'])\n",
    "print(df)"
   ]
  },
  {
   "cell_type": "code",
   "execution_count": 32,
   "id": "773fb4a8-1665-421d-9d27-480f894fcd83",
   "metadata": {},
   "outputs": [
    {
     "name": "stdout",
     "output_type": "stream",
     "text": [
      "Mean Temperature: 30.333333333333332\n",
      "Maximum Temperature: 35\n",
      "Minimum Temperature: 24\n"
     ]
    }
   ],
   "source": [
    "data = {\n",
    "    'day': ['1/1/2017', '1/2/2017', '1/3/2017', '1/4/2017', '1/5/2017', '1/6/2017'],\n",
    "    'temperature': [32, 35, 28, 24, 32, 31],\n",
    "    'windspeed': [6, 7, 2, 7, 4, 2],\n",
    "    'event': ['Rain', 'Sunny', 'Snow', 'Snow', 'Rain', 'Sunny']\n",
    "}\n",
    "\n",
    "df = pd.DataFrame(data)\n",
    "\n",
    "print(\"Mean Temperature:\", df['temperature'].mean())\n",
    "print(\"Maximum Temperature:\", df['temperature'].max())\n",
    "print(\"Minimum Temperature:\", df['temperature'].min())\n",
    "temperature_max = df['temperature'].max()\n",
    "temperature_min = df['temperature'].min()"
   ]
  },
  {
   "cell_type": "code",
   "execution_count": 33,
   "id": "7e917294-a4fd-408c-ac2e-dac3bd8a7eec",
   "metadata": {},
   "outputs": [
    {
     "name": "stdout",
     "output_type": "stream",
     "text": [
      "NewPeople.csv file has been created successfully.\n"
     ]
    }
   ],
   "source": [
    "import pandas as pd\n",
    "\n",
    "# Read the CSV file and specify columns to import\n",
    "columns_to_import = [\"First Name\", \"Sex\", \"Email\", \"Phone\", \"Job Title\"]\n",
    "df = pd.read_csv('people.csv', usecols=columns_to_import, skiprows=[1, 5])\n",
    "\n",
    "# Set \"Sex\" and \"Job Title\" columns as index columns\n",
    "df.set_index([\"Sex\", \"Job Title\"], inplace=True)\n",
    "\n",
    "# Export the DataFrame to a new CSV file\n",
    "df.to_csv('NewPeople.csv')\n",
    "\n",
    "print(\"NewPeople.csv file has been created successfully.\")\n"
   ]
  },
  {
   "cell_type": "code",
   "execution_count": 34,
   "id": "5fc7c3e1-efae-43b7-aaa3-6b626a699225",
   "metadata": {},
   "outputs": [
    {
     "name": "stdout",
     "output_type": "stream",
     "text": [
      "NewSheet.xlsx file has been created successfully.\n"
     ]
    }
   ],
   "source": [
    "import pandas as pd\n",
    "\n",
    "# Read the Excel file and specify columns to import\n",
    "columns_to_import = [0, -1]  # First and last columns\n",
    "df = pd.read_excel('SampleWork.xlsx', sheet_name=0, usecols=columns_to_import, header=1, skiprows=[2])\n",
    "\n",
    "# Export the DataFrame to a new Excel sheet\n",
    "df.to_excel('NewSheet.xlsx', index=False)\n",
    "\n",
    "print(\"NewSheet.xlsx file has been created successfully.\")\n"
   ]
  },
  {
   "cell_type": "code",
   "execution_count": 45,
   "id": "814d217e-060e-4484-ab86-a84e3e5f6556",
   "metadata": {},
   "outputs": [
    {
     "name": "stdout",
     "output_type": "stream",
     "text": [
      "    Name Age   Address Qualification\n",
      "0  Sonia  27    Lahore           Msc\n",
      "1  Bilal  24   Karachi            MA\n",
      "2  Hifza  22   Sialkot           MCA\n",
      "3  Kabir  32  Peshawar           Phd\n",
      "4  Jazim  23       lhr           bsc\n"
     ]
    }
   ],
   "source": [
    "# Create the following dataframe as AICP_DF then implement different operations as described below:\n",
    "\n",
    "data = {\n",
    "    'Name': ['Sonia', 'Bilal', 'Hifza', 'Kabir', 'Jazim'],\n",
    "    'Age': ['27', '24', '22', '32', '23'],\n",
    "    'Address': ['Lahore', 'Karachi', 'Sialkot','Peshawar', 'lhr'],\n",
    "    'Qualification': ['Msc', 'MA', 'MCA', 'Phd', 'bsc'],\n",
    "    \n",
    "}\n",
    "\n",
    "AICP_DF = pd.DataFrame(data)\n",
    "print(AICP_DF)\n"
   ]
  },
  {
   "cell_type": "code",
   "execution_count": 47,
   "id": "d4cb8959-3df0-40c1-b25a-3e13f9315b0e",
   "metadata": {},
   "outputs": [
    {
     "name": "stdout",
     "output_type": "stream",
     "text": [
      "    Name Qualification\n",
      "0  Sonia           Msc\n",
      "1  Bilal            MA\n",
      "2  Hifza           MCA\n",
      "3  Kabir           Phd\n",
      "4  Jazim           bsc\n"
     ]
    }
   ],
   "source": [
    "# select 'Name', 'Qualification' coloumns and save to df1\n",
    "\n",
    "df1 = AICP_DF[['Name', 'Qualification']]\n",
    "print(df1)\n"
   ]
  },
  {
   "cell_type": "code",
   "execution_count": 48,
   "id": "fdc5f3c8-3e6b-4060-86db-47b2c6d896d8",
   "metadata": {},
   "outputs": [
    {
     "name": "stdout",
     "output_type": "stream",
     "text": [
      "    Name Age   Address Qualification  Height\n",
      "0  Sonia  27    Lahore           Msc     5.1\n",
      "1  Bilal  24   Karachi            MA     6.2\n",
      "2  Hifza  22   Sialkot           MCA     5.1\n",
      "3  Kabir  32  Peshawar           Phd     5.2\n",
      "4  Jazim  23       lhr           bsc     5.1\n"
     ]
    }
   ],
   "source": [
    "# add a new column to AICP_DF “Height” with the following values: [5.1, 6.2, 5.1, 5.2,5.1]\n",
    "\n",
    "AICP_DF['Height'] = [5.1, 6.2, 5.1, 5.2, 5.1]\n",
    "print(AICP_DF)\n"
   ]
  },
  {
   "cell_type": "code",
   "execution_count": 49,
   "id": "e9326f22-884f-41ce-b40f-bb2d8f69bd79",
   "metadata": {},
   "outputs": [
    {
     "name": "stdout",
     "output_type": "stream",
     "text": [
      "      Age   Address Qualification  Height\n",
      "Name                                     \n",
      "Sonia  27    Lahore           Msc     5.1\n",
      "Bilal  24   Karachi            MA     6.2\n",
      "Hifza  22   Sialkot           MCA     5.1\n",
      "Kabir  32  Peshawar           Phd     5.2\n",
      "Jazim  23       lhr           bsc     5.1\n"
     ]
    }
   ],
   "source": [
    "# set column “Name” as the index column.\n",
    "\n",
    "AICP_DF.set_index('Name', inplace=True)\n",
    "print(AICP_DF)\n"
   ]
  },
  {
   "cell_type": "code",
   "execution_count": 39,
   "id": "d0efca9d-606a-4dbf-9e3e-0f14b6524fe7",
   "metadata": {},
   "outputs": [
    {
     "name": "stdout",
     "output_type": "stream",
     "text": [
      "\n",
      "Row with index 'Hifza':\n",
      "Qualification    M.Sc\n",
      "Height            6.2\n",
      "Name: Hifza, dtype: object\n"
     ]
    }
   ],
   "source": [
    "# retrieve row with index “Hifza”\n",
    "\n",
    "row_hifza = AICP_DF.loc['Hifza']\n",
    "print(row_hifza)\n"
   ]
  },
  {
   "cell_type": "code",
   "execution_count": 40,
   "id": "73e2f69b-e8dc-4d20-adf8-3ba83c368e96",
   "metadata": {},
   "outputs": [
    {
     "name": "stdout",
     "output_type": "stream",
     "text": [
      "\n",
      "Row with index 3:\n",
      "Qualification    Ph.D\n",
      "Height            5.1\n",
      "Name: Bilal, dtype: object\n"
     ]
    }
   ],
   "source": [
    "# retrieve row with index 3\n",
    "\n",
    "row_index_3 = AICP_DF.iloc[2]  # Indexing starts from 0, so index 3 is at position 2\n",
    "print(\"\\nRow with index 3:\")\n",
    "print(row_index_3)\n"
   ]
  },
  {
   "cell_type": "code",
   "execution_count": 41,
   "id": "bb596e5b-3b49-4a62-bfd2-50786618a401",
   "metadata": {},
   "outputs": [
    {
     "name": "stdout",
     "output_type": "stream",
     "text": [
      "\n",
      "AICP_DF after dropping row with index 'Bilal':\n",
      "      Qualification  Height\n",
      "Name                       \n",
      "Ali            B.Sc     5.1\n",
      "Hifza          M.Sc     6.2\n",
      "Ahmed           MBA     5.2\n",
      "Sana           B.Sc     5.1\n"
     ]
    }
   ],
   "source": [
    "# drop row with index “Bilal\n",
    "\n",
    "AICP_DF.drop(index='Bilal', inplace=True)\n",
    "print(\"\\nAICP_DF after dropping row with index 'Bilal':\")\n",
    "print(AICP_DF)\n"
   ]
  }
 ],
 "metadata": {
  "kernelspec": {
   "display_name": "Python 3 (ipykernel)",
   "language": "python",
   "name": "python3"
  },
  "language_info": {
   "codemirror_mode": {
    "name": "ipython",
    "version": 3
   },
   "file_extension": ".py",
   "mimetype": "text/x-python",
   "name": "python",
   "nbconvert_exporter": "python",
   "pygments_lexer": "ipython3",
   "version": "3.10.0"
  }
 },
 "nbformat": 4,
 "nbformat_minor": 5
}
